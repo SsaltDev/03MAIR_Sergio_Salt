{
  "nbformat": 4,
  "nbformat_minor": 0,
  "metadata": {
    "colab": {
      "name": "Sergio_Salt_Algoritmos_AG1.ipynb",
      "provenance": [],
      "collapsed_sections": [],
      "authorship_tag": "ABX9TyNJVuJthKOvG3Gx7K8vuJ+W",
      "include_colab_link": true
    },
    "kernelspec": {
      "name": "python3",
      "display_name": "Python 3"
    }
  },
  "cells": [
    {
      "cell_type": "markdown",
      "metadata": {
        "id": "view-in-github",
        "colab_type": "text"
      },
      "source": [
        "<a href=\"https://colab.research.google.com/github/salt24-web/03MAIR_Sergio_Salt/blob/main/Sergio_Salt_Algoritmos_AG1.ipynb\" target=\"_parent\"><img src=\"https://colab.research.google.com/assets/colab-badge.svg\" alt=\"Open In Colab\"/></a>"
      ]
    },
    {
      "cell_type": "markdown",
      "metadata": {
        "id": "4Q6c4K8kJuWa"
      },
      "source": [
        "# AG1\n",
        "\n",
        "**Nombre**: Sergio\n",
        "<br>\n",
        "**Apellidos**: Salt Moya\n",
        "\n",
        "**Link**: https://colab.research.google.com/drive/1Tyz7cqyEHbRYzZysjy_sL-iy7xXBRSOp?usp=sharing\n",
        "\n",
        "Github: https://github.com/salt24-web/03MAIR_Sergio_Salt.git"
      ]
    },
    {
      "cell_type": "markdown",
      "metadata": {
        "id": "QAbACwrzVqPN"
      },
      "source": [
        "# Torres de Hanoi"
      ]
    },
    {
      "cell_type": "code",
      "metadata": {
        "id": "bxZsrIlcT744"
      },
      "source": [
        "def torres_hanoi(N, desde, hasta):\r\n",
        "  if N == 1:\r\n",
        "    print(f\"Llevar desde : {desde} hasta: {hasta}\")\r\n",
        "  else:\r\n",
        "    torres_hanoi( N-1, desde, 6-desde-hasta )\r\n",
        "    print(f\"Llevar desde : {desde} hasta: {hasta}\")\r\n",
        "    torres_hanoi(N-1, 6-desde-hasta, hasta)\r\n",
        "  "
      ],
      "execution_count": 14,
      "outputs": []
    },
    {
      "cell_type": "code",
      "metadata": {
        "colab": {
          "base_uri": "https://localhost:8080/"
        },
        "id": "eH-h29Q3Z8xk",
        "outputId": "8240d180-ee19-4843-9340-f493a8aed0e6"
      },
      "source": [
        "torres_hanoi(4,1,3)"
      ],
      "execution_count": 15,
      "outputs": [
        {
          "output_type": "stream",
          "text": [
            "Llevar desde : 1 hasta: 2\n",
            "Llevar desde : 1 hasta: 3\n",
            "Llevar desde : 2 hasta: 3\n",
            "Llevar desde : 1 hasta: 2\n",
            "Llevar desde : 3 hasta: 1\n",
            "Llevar desde : 3 hasta: 2\n",
            "Llevar desde : 1 hasta: 2\n",
            "Llevar desde : 1 hasta: 3\n",
            "Llevar desde : 2 hasta: 3\n",
            "Llevar desde : 2 hasta: 1\n",
            "Llevar desde : 3 hasta: 1\n",
            "Llevar desde : 2 hasta: 3\n",
            "Llevar desde : 1 hasta: 2\n",
            "Llevar desde : 1 hasta: 3\n",
            "Llevar desde : 2 hasta: 3\n"
          ],
          "name": "stdout"
        }
      ]
    },
    {
      "cell_type": "markdown",
      "metadata": {
        "id": "mZhUEcGbVs1-"
      },
      "source": [
        "# Cambio de monedas"
      ]
    },
    {
      "cell_type": "code",
      "metadata": {
        "id": "42-P6YP2VavI"
      },
      "source": [
        "sistema_monetario = [25, 10, 5, 1]\r\n",
        "\r\n",
        "def cambio_monedas(N=1, SM=sistema_monetario):\r\n",
        "\r\n",
        "  v_acumulado = 0\r\n",
        "  solucion = [0]*len(SM)\r\n",
        "\r\n",
        "  for i, m in enumerate(SM): \r\n",
        "    monedas = int((N-v_acumulado)/m)\r\n",
        "    solucion[i] = monedas\r\n",
        "    v_acumulado += monedas*m\r\n",
        "\r\n",
        "    if v_acumulado == N:\r\n",
        "      return solucion"
      ],
      "execution_count": 12,
      "outputs": []
    },
    {
      "cell_type": "code",
      "metadata": {
        "colab": {
          "base_uri": "https://localhost:8080/"
        },
        "id": "JohA5WS-Z2yd",
        "outputId": "dcef7680-5b9b-4cf2-eeff-5a88d8ee56ee"
      },
      "source": [
        "print(cambio_monedas(N=124, SM=sistema_monetario))"
      ],
      "execution_count": 13,
      "outputs": [
        {
          "output_type": "stream",
          "text": [
            "[4, 2, 0, 4]\n"
          ],
          "name": "stdout"
        }
      ]
    },
    {
      "cell_type": "markdown",
      "metadata": {
        "id": "vObXFB6vW3O-"
      },
      "source": [
        "# 4 Reinas"
      ]
    },
    {
      "cell_type": "code",
      "metadata": {
        "id": "M0GaRpjqW243"
      },
      "source": [
        "def escribe(solucion): \r\n",
        "  n = len(solucion)\r\n",
        "  for x in range(n):\r\n",
        "    print(\"\")\r\n",
        "    for i in range(n):\r\n",
        "      if solucion[i] == x+1:\r\n",
        "        print(\" X \" , end=\"\")\r\n",
        "      else:\r\n",
        "        print(\" - \", end=\"\")\r\n",
        "\r\n",
        "def es_prometedora(SOLUCION,etapa):\r\n",
        "\r\n",
        "  for i in range(etapa+1):  \r\n",
        "    if SOLUCION.count(SOLUCION[i]) > 1:       \r\n",
        "      return False\r\n",
        "  \r\n",
        "    # Se verifica las diagonales\r\n",
        "    for j in range(i+1, etapa +1 ):\r\n",
        "      if abs(i-j) == abs(SOLUCION[i]-SOLUCION[j]) : \r\n",
        "        return False\r\n",
        "  return True\r\n",
        "\r\n",
        "\r\n",
        "def reinas(N,solucion,etapa):\r\n",
        "  \r\n",
        "  for i in range(1,N+1):\r\n",
        "    solucion[etapa] = i\r\n",
        "\r\n",
        "    if es_prometedora(solucion,etapa):      \r\n",
        "      if etapa == N-1 :\r\n",
        "        print(\"\\n\\nLa solución es:\")\r\n",
        "        print(solucion)\r\n",
        "        escribe(solucion)\r\n",
        "        \r\n",
        "      else:\r\n",
        "        reinas(N,solucion,etapa+1)\r\n",
        "    else:  None\r\n",
        "    \r\n",
        "    solucion[etapa] = 0"
      ],
      "execution_count": 53,
      "outputs": []
    },
    {
      "cell_type": "code",
      "metadata": {
        "colab": {
          "base_uri": "https://localhost:8080/"
        },
        "id": "1DdAyMaqaDmN",
        "outputId": "144ec141-5df0-4fee-8214-124388ed91da"
      },
      "source": [
        "N=4\r\n",
        "solucion = [0 for i in range(N) ]\r\n",
        "reinas(N,solucion,0)"
      ],
      "execution_count": 54,
      "outputs": [
        {
          "output_type": "stream",
          "text": [
            "\n",
            "\n",
            "La solución es:\n",
            "[2, 4, 1, 3]\n",
            "\n",
            " -  -  X  - \n",
            " X  -  -  - \n",
            " -  -  -  X \n",
            " -  X  -  - \n",
            "\n",
            "La solución es:\n",
            "[3, 1, 4, 2]\n",
            "\n",
            " -  X  -  - \n",
            " -  -  -  X \n",
            " X  -  -  - \n",
            " -  -  X  - "
          ],
          "name": "stdout"
        }
      ]
    }
  ]
}